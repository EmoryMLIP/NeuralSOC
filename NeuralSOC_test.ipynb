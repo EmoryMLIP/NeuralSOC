{
  "nbformat": 4,
  "nbformat_minor": 0,
  "metadata": {
    "colab": {
      "provenance": [],
      "machine_shape": "hm"
    },
    "kernelspec": {
      "name": "python3",
      "display_name": "Python 3"
    },
    "language_info": {
      "name": "python"
    },
    "accelerator": "GPU",
    "gpuClass": "standard"
  },
  "cells": [
    {
      "cell_type": "markdown",
      "source": [
        "The purpose of this notebook is for people to easily test some of our code and results without the need to install FEniCS locally."
      ],
      "metadata": {
        "id": "ek5DSv58KOQz"
      }
    },
    {
      "cell_type": "code",
      "execution_count": null,
      "metadata": {
        "id": "CZ4n8n1XKEB3"
      },
      "outputs": [],
      "source": [
        "try:\n",
        "    import dolfin\n",
        "except ImportError:\n",
        "    !wget \"https://fem-on-colab.github.io/releases/fenics-install.sh\" -O \"/tmp/fenics-install.sh\" && bash \"/tmp/fenics-install.sh\"\n",
        "    import dolfin"
      ]
    },
    {
      "cell_type": "code",
      "source": [
        "!git clone https://github.com/EmoryMLIP/NeuralSOC.git\n",
        "%cd NeuralSOC\n",
        "!pip install -r install.txt "
      ],
      "metadata": {
        "id": "SwBPaN59QoDI"
      },
      "execution_count": null,
      "outputs": []
    },
    {
      "cell_type": "code",
      "source": [
        "!python plotter.py # or other files listed in the repository"
      ],
      "metadata": {
        "id": "UEbYPG50QsVo"
      },
      "execution_count": null,
      "outputs": []
    }
  ]
}